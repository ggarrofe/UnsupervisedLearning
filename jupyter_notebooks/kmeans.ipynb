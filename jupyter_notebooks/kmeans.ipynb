{
 "cells": [
  {
   "cell_type": "code",
   "execution_count": null,
   "metadata": {},
   "outputs": [],
   "source": [
    "! git clone https://github.com/ggarrofe/UnsupervisedLearning.git\n",
    "import sys\n",
    "sys.path.append(\"./UnsupervisedLearning\")\n",
    "from kmeans import kmeans\n",
    "from visualization import clustering as vis\n",
    "import torch\n"
   ]
  },
  {
   "cell_type": "code",
   "execution_count": null,
   "metadata": {},
   "outputs": [],
   "source": [
    "device = torch.device(\"cuda\" if torch.cuda.is_available() else \"cpu\")"
   ]
  },
  {
   "cell_type": "markdown",
   "metadata": {},
   "source": [
    "# 2D clustering example"
   ]
  },
  {
   "cell_type": "code",
   "execution_count": null,
   "metadata": {},
   "outputs": [],
   "source": [
    "num_samples = 10_000\n",
    "X = torch.rand((num_samples, 2))\n",
    "\n",
    "cluster_ids, centroids = kmeans(X=X, num_clusters=10, tol=1e-03, device=device)\n",
    "vis.plot_clusters_2Dpoints(X, cluster_ids, 10, \"./out\")"
   ]
  },
  {
   "cell_type": "markdown",
   "metadata": {},
   "source": [
    "# 3D clustering example\n",
    "With batched clustering: specially useful when working with large datasets and we cannot load all the samples to the RAM"
   ]
  },
  {
   "cell_type": "code",
   "execution_count": null,
   "metadata": {},
   "outputs": [],
   "source": [
    "num_samples = 100_000\n",
    "X = torch.rand((num_samples, 3))\n",
    "\n",
    "cluster_ids, centroids = kmeans(X=X, num_clusters=10, tol=1e-03, device=device, batch_size=10_000)\n",
    "vis.plot_clusters_3Dpoints(X, cluster_ids, 10, \"./out\")"
   ]
  }
 ],
 "metadata": {
  "language_info": {
   "name": "python"
  },
  "orig_nbformat": 4
 },
 "nbformat": 4,
 "nbformat_minor": 2
}
