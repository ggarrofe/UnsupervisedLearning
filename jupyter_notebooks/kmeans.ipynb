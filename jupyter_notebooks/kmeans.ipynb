{
 "cells": [
  {
   "cell_type": "code",
   "execution_count": null,
   "metadata": {},
   "outputs": [],
   "source": [
    "! git clone https://github.com/ggarrofe/UnsupervisedLearning.git\n",
    "import sys\n",
    "sys.path.append(\"./UnsupervisedLearning\")\n",
    "from kmeans.kmeans import kmeans, kmeans_predict\n",
    "from visualization import clustering as vis\n",
    "import torch"
   ]
  },
  {
   "cell_type": "code",
   "execution_count": null,
   "metadata": {},
   "outputs": [],
   "source": [
    "device = torch.device(\"cuda\" if torch.cuda.is_available() else \"cpu\")"
   ]
  },
  {
   "cell_type": "markdown",
   "metadata": {},
   "source": [
    "# 2D clustering example"
   ]
  },
  {
   "cell_type": "code",
   "execution_count": null,
   "metadata": {},
   "outputs": [],
   "source": [
    "num_samples = 10_000\n",
    "X = torch.rand((num_samples, 2))\n",
    "\n",
    "cluster_ids, centroids = kmeans(X=X, num_clusters=10, tol=1e-03, device=device)\n",
    "vis.plot_clusters_2Dpoints(X, cluster_ids, 10, out_path=\"./UnsupervisedLearning/out\")"
   ]
  },
  {
   "cell_type": "markdown",
   "metadata": {},
   "source": [
    "## Prediction"
   ]
  },
  {
   "cell_type": "code",
   "execution_count": null,
   "metadata": {},
   "outputs": [],
   "source": [
    "X_test = torch.rand((5_000, 2))\n",
    "cluster_ids = kmeans_predict(X_test, centroids, device)\n",
    "vis.plot_clusters_2Dpoints(X_test, cluster_ids, 10, out_path=\"./UnsupervisedLearning/out\", filename=\"test_2d.png\")"
   ]
  },
  {
   "cell_type": "markdown",
   "metadata": {},
   "source": [
    "# 3D clustering example\n",
    "With batched clustering: specially useful when working with large datasets and we cannot load all the samples to the RAM"
   ]
  },
  {
   "cell_type": "code",
   "execution_count": null,
   "metadata": {},
   "outputs": [],
   "source": [
    "num_samples = 100_000\n",
    "X = torch.rand((num_samples, 3))\n",
    "\n",
    "cluster_ids, centroids = kmeans(X=X, num_clusters=10, tol=1e-03, device=device, batch_size=10_000)\n",
    "vis.plot_clusters_3Dpoints(X, cluster_ids, num_clusters=10, out_path=\"./UnsupervisedLearning/out\", colab=True)"
   ]
  },
  {
   "cell_type": "markdown",
   "metadata": {},
   "source": [
    "## Prediction"
   ]
  },
  {
   "cell_type": "code",
   "execution_count": null,
   "metadata": {},
   "outputs": [],
   "source": [
    "X_test = torch.rand((5_000, 3))\n",
    "cluster_ids = kmeans_predict(X_test, centroids, device)\n",
    "vis.plot_clusters_3Dpoints(X_test, cluster_ids, 10, out_path=\"./UnsupervisedLearning/out\", filename=\"test_3d.png\", colab=True)"
   ]
  }
 ],
 "metadata": {
  "language_info": {
   "name": "python"
  },
  "orig_nbformat": 4
 },
 "nbformat": 4,
 "nbformat_minor": 2
}
